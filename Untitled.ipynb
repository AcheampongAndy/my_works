{
 "cells": [
  {
   "cell_type": "code",
   "execution_count": 1,
   "id": "61cb42e0",
   "metadata": {},
   "outputs": [],
   "source": [
    "from selenium import webdriver\n",
    "from selenium.webdriver.common.by import By\n",
    "from selenium.webdriver.support.ui import Select\n",
    "from selenium.webdriver.support.ui import WebDriverWait\n",
    "from selenium.webdriver.support import expected_conditions as EC"
   ]
  },
  {
   "cell_type": "code",
   "execution_count": 2,
   "id": "775293a5",
   "metadata": {},
   "outputs": [
    {
     "name": "stderr",
     "output_type": "stream",
     "text": [
      "The chromedriver version (120.0.6099.109) detected in PATH at /usr/local/bin/chromedriver might not be compatible with the detected chrome version (121.0.6167.85); currently, chromedriver 121.0.6167.85 is recommended for chrome 121.*, so it is advised to delete the driver in PATH and retry\n"
     ]
    }
   ],
   "source": [
    "driver = webdriver.Chrome()"
   ]
  },
  {
   "cell_type": "code",
   "execution_count": 3,
   "id": "5418b1dc",
   "metadata": {},
   "outputs": [],
   "source": [
    "url = 'http://books.toscrape.com/index.html '"
   ]
  },
  {
   "cell_type": "code",
   "execution_count": 4,
   "id": "a01af1cc",
   "metadata": {},
   "outputs": [],
   "source": [
    "driver.get(url)"
   ]
  },
  {
   "cell_type": "code",
   "execution_count": 40,
   "id": "fb8b7efb",
   "metadata": {},
   "outputs": [],
   "source": [
    "# an empty dictionary\n",
    "df_dict = {}"
   ]
  },
  {
   "cell_type": "code",
   "execution_count": 41,
   "id": "b22cabb3",
   "metadata": {},
   "outputs": [],
   "source": [
    "links = ['//*[@id=\"default\"]/div/div/div/aside/div[2]/ul/li/ul/li[1]/a',\n",
    "         '//*[@id=\"default\"]/div/div/div/aside/div[2]/ul/li/ul/li[21]/a',\n",
    "         '//*[@id=\"default\"]/div/div/div/aside/div[2]/ul/li/ul/li[9]/a',\n",
    "        '//*[@id=\"default\"]/div/div/div/aside/div[2]/ul/li/ul/li[13]/a',\n",
    "        '//*[@id=\"default\"]/div/div/div/aside/div[2]/ul/li/ul/li[24]/a']"
   ]
  },
  {
   "cell_type": "code",
   "execution_count": 47,
   "id": "bb8f268c",
   "metadata": {},
   "outputs": [
    {
     "name": "stdout",
     "output_type": "stream",
     "text": [
      "['Two', 'Four', 'Three', 'Two', 'Three', 'Two', 'One', 'Four', 'One', 'Three', 'Five']\n",
      "['Four', 'Five', 'Four', 'One', 'One', 'One', 'Four', 'Three', 'Two', 'Four', 'Five', 'Two', 'Four', 'One']\n",
      "['One', 'Five', 'Five', 'Five', 'Three', 'Two', 'Four', 'Five', 'Five', 'Five', 'Four', 'Three', 'Three', 'Three', 'Four', 'One', 'Three', 'One', 'Four', 'Three']\n",
      "['Five', 'Three', 'Two', 'One', 'Four', 'Five', 'Two', 'One', 'Three', 'Five', 'Five', 'Two', 'Three']\n",
      "['Four', 'Three', 'Four', 'Three', 'Four', 'Four', 'Two', 'Five']\n"
     ]
    }
   ],
   "source": [
    "for link in links:\n",
    "    # Find the element using XPath (you can adjust the XPath as needed)\n",
    "    element = driver.find_element(By.XPATH, link)\n",
    "\n",
    "    # Click on the element to navigate to the specified link\n",
    "    element.click()\n",
    "    \n",
    "    # Find all elements with the class \"star-rating\"\n",
    "    ratings = []\n",
    "    rating_elements = driver.find_elements('css selector', 'p.star-rating')\n",
    "\n",
    "    # Loop through each element and extract the text content\n",
    "    for rating_element in rating_elements:\n",
    "        # Extract the class name of the rating element\n",
    "        class_name = rating_element.get_attribute('class')\n",
    "\n",
    "        # Extract the numeric rating from the class name (assuming it's the last character)\n",
    "        rating = class_name.split()[-1]\n",
    "        ratings.append(rating)\n",
    "    print(ratings)\n",
    "    \n",
    "    # Find all anchor elements with a specific title attribute\n",
    "    book_names = []\n",
    "    book_elements = driver.find_elements('css selector', 'a[title]')\n",
    "\n",
    "    # Loop through each element and extract the book name\n",
    "    for book_element in book_elements:\n",
    "        book_name = book_element.get_attribute('title')\n",
    "        book_names.append(book_name)\n",
    "        \n",
    "    # Find all elements with the class \"price_color\"\n",
    "    prices = []\n",
    "    price_elements = driver.find_elements('css selector', 'p.price_color')\n",
    "\n",
    "    # Loop through each element and extract the price\n",
    "    for price_element in price_elements:\n",
    "        price = price_element.text.strip()\n",
    "        prices.append(price)\n",
    "        \n",
    "    # Locate the h1 element and extract its text content\n",
    "    h1_element = driver.find_element(By.TAG_NAME, 'h1')\n",
    "    text_content = h1_element.text\n",
    "        \n",
    "    if len(ratings) == len(book_names) == len(prices):\n",
    "                import pandas as pd\n",
    "                df = pd.DataFrame({\n",
    "                    \"name\":book_name,\n",
    "                    \"category\":text_content,\n",
    "                    \"rating\":ratings,\n",
    "                    \"prices\": prices,\n",
    "                })\n",
    "\n",
    "    # Store the DataFrame in a dictionary with a key based on year and month\n",
    "    df_key = f\"df_{text_content}\"\n",
    "    df_dict[df_key] = df"
   ]
  },
  {
   "cell_type": "code",
   "execution_count": 48,
   "id": "e56f59ac",
   "metadata": {},
   "outputs": [
    {
     "name": "stdout",
     "output_type": "stream",
     "text": [
      "                                  name category rating  prices\n",
      "0   1,000 Places to See Before You Die   Travel    Two  £45.17\n",
      "1   1,000 Places to See Before You Die   Travel   Four  £49.43\n",
      "2   1,000 Places to See Before You Die   Travel  Three  £48.87\n",
      "3   1,000 Places to See Before You Die   Travel    Two  £36.94\n",
      "4   1,000 Places to See Before You Die   Travel  Three  £37.33\n",
      "..                                 ...      ...    ...     ...\n",
      "61                      Ways of Seeing      Art  Three  £43.02\n",
      "62                      Ways of Seeing      Art   Four  £10.29\n",
      "63                      Ways of Seeing      Art   Four  £41.14\n",
      "64                      Ways of Seeing      Art    Two  £32.34\n",
      "65                      Ways of Seeing      Art   Five  £39.51\n",
      "\n",
      "[66 rows x 4 columns]\n"
     ]
    }
   ],
   "source": [
    "# Concatenate DataFrames from the dictionary vertically\n",
    "combined_df = pd.concat(df_dict.values(), ignore_index=True)\n",
    "print(combined_df)"
   ]
  },
  {
   "cell_type": "code",
   "execution_count": 51,
   "id": "109dfb65",
   "metadata": {},
   "outputs": [
    {
     "data": {
      "text/html": [
       "<div>\n",
       "<style scoped>\n",
       "    .dataframe tbody tr th:only-of-type {\n",
       "        vertical-align: middle;\n",
       "    }\n",
       "\n",
       "    .dataframe tbody tr th {\n",
       "        vertical-align: top;\n",
       "    }\n",
       "\n",
       "    .dataframe thead th {\n",
       "        text-align: right;\n",
       "    }\n",
       "</style>\n",
       "<table border=\"1\" class=\"dataframe\">\n",
       "  <thead>\n",
       "    <tr style=\"text-align: right;\">\n",
       "      <th></th>\n",
       "      <th>name</th>\n",
       "      <th>category</th>\n",
       "      <th>rating</th>\n",
       "      <th>prices</th>\n",
       "    </tr>\n",
       "  </thead>\n",
       "  <tbody>\n",
       "    <tr>\n",
       "      <th>0</th>\n",
       "      <td>1,000 Places to See Before You Die</td>\n",
       "      <td>Travel</td>\n",
       "      <td>Two</td>\n",
       "      <td>£45.17</td>\n",
       "    </tr>\n",
       "    <tr>\n",
       "      <th>1</th>\n",
       "      <td>1,000 Places to See Before You Die</td>\n",
       "      <td>Travel</td>\n",
       "      <td>Four</td>\n",
       "      <td>£49.43</td>\n",
       "    </tr>\n",
       "    <tr>\n",
       "      <th>2</th>\n",
       "      <td>1,000 Places to See Before You Die</td>\n",
       "      <td>Travel</td>\n",
       "      <td>Three</td>\n",
       "      <td>£48.87</td>\n",
       "    </tr>\n",
       "    <tr>\n",
       "      <th>3</th>\n",
       "      <td>1,000 Places to See Before You Die</td>\n",
       "      <td>Travel</td>\n",
       "      <td>Two</td>\n",
       "      <td>£36.94</td>\n",
       "    </tr>\n",
       "    <tr>\n",
       "      <th>4</th>\n",
       "      <td>1,000 Places to See Before You Die</td>\n",
       "      <td>Travel</td>\n",
       "      <td>Three</td>\n",
       "      <td>£37.33</td>\n",
       "    </tr>\n",
       "  </tbody>\n",
       "</table>\n",
       "</div>"
      ],
      "text/plain": [
       "                                 name category rating  prices\n",
       "0  1,000 Places to See Before You Die   Travel    Two  £45.17\n",
       "1  1,000 Places to See Before You Die   Travel   Four  £49.43\n",
       "2  1,000 Places to See Before You Die   Travel  Three  £48.87\n",
       "3  1,000 Places to See Before You Die   Travel    Two  £36.94\n",
       "4  1,000 Places to See Before You Die   Travel  Three  £37.33"
      ]
     },
     "execution_count": 51,
     "metadata": {},
     "output_type": "execute_result"
    }
   ],
   "source": [
    "combined_df.head()"
   ]
  },
  {
   "cell_type": "code",
   "execution_count": 52,
   "id": "1335a13f",
   "metadata": {},
   "outputs": [
    {
     "data": {
      "text/html": [
       "<div>\n",
       "<style scoped>\n",
       "    .dataframe tbody tr th:only-of-type {\n",
       "        vertical-align: middle;\n",
       "    }\n",
       "\n",
       "    .dataframe tbody tr th {\n",
       "        vertical-align: top;\n",
       "    }\n",
       "\n",
       "    .dataframe thead th {\n",
       "        text-align: right;\n",
       "    }\n",
       "</style>\n",
       "<table border=\"1\" class=\"dataframe\">\n",
       "  <thead>\n",
       "    <tr style=\"text-align: right;\">\n",
       "      <th></th>\n",
       "      <th>name</th>\n",
       "      <th>category</th>\n",
       "      <th>rating</th>\n",
       "      <th>prices</th>\n",
       "    </tr>\n",
       "  </thead>\n",
       "  <tbody>\n",
       "    <tr>\n",
       "      <th>61</th>\n",
       "      <td>Ways of Seeing</td>\n",
       "      <td>Art</td>\n",
       "      <td>Three</td>\n",
       "      <td>£43.02</td>\n",
       "    </tr>\n",
       "    <tr>\n",
       "      <th>62</th>\n",
       "      <td>Ways of Seeing</td>\n",
       "      <td>Art</td>\n",
       "      <td>Four</td>\n",
       "      <td>£10.29</td>\n",
       "    </tr>\n",
       "    <tr>\n",
       "      <th>63</th>\n",
       "      <td>Ways of Seeing</td>\n",
       "      <td>Art</td>\n",
       "      <td>Four</td>\n",
       "      <td>£41.14</td>\n",
       "    </tr>\n",
       "    <tr>\n",
       "      <th>64</th>\n",
       "      <td>Ways of Seeing</td>\n",
       "      <td>Art</td>\n",
       "      <td>Two</td>\n",
       "      <td>£32.34</td>\n",
       "    </tr>\n",
       "    <tr>\n",
       "      <th>65</th>\n",
       "      <td>Ways of Seeing</td>\n",
       "      <td>Art</td>\n",
       "      <td>Five</td>\n",
       "      <td>£39.51</td>\n",
       "    </tr>\n",
       "  </tbody>\n",
       "</table>\n",
       "</div>"
      ],
      "text/plain": [
       "              name category rating  prices\n",
       "61  Ways of Seeing      Art  Three  £43.02\n",
       "62  Ways of Seeing      Art   Four  £10.29\n",
       "63  Ways of Seeing      Art   Four  £41.14\n",
       "64  Ways of Seeing      Art    Two  £32.34\n",
       "65  Ways of Seeing      Art   Five  £39.51"
      ]
     },
     "execution_count": 52,
     "metadata": {},
     "output_type": "execute_result"
    }
   ],
   "source": [
    "combined_df.tail()"
   ]
  },
  {
   "cell_type": "code",
   "execution_count": 49,
   "id": "2a3c47ae",
   "metadata": {},
   "outputs": [],
   "source": [
    "combined_df.to_csv(\"emma.csv\")"
   ]
  }
 ],
 "metadata": {
  "kernelspec": {
   "display_name": "Python 3 (ipykernel)",
   "language": "python",
   "name": "python3"
  },
  "language_info": {
   "codemirror_mode": {
    "name": "ipython",
    "version": 3
   },
   "file_extension": ".py",
   "mimetype": "text/x-python",
   "name": "python",
   "nbconvert_exporter": "python",
   "pygments_lexer": "ipython3",
   "version": "3.10.12"
  }
 },
 "nbformat": 4,
 "nbformat_minor": 5
}
