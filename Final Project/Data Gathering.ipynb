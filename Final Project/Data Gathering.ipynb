{
 "cells": [
  {
   "cell_type": "markdown",
   "metadata": {},
   "source": [
    "I imported webdriver from selenium.<brr>\n",
    "  This webdriver will allow me to automate the testing of a web application "
   ]
  },
  {
   "cell_type": "code",
   "execution_count": 1,
   "metadata": {},
   "outputs": [],
   "source": [
    "from selenium import webdriver\n",
    "url1 = \"https://www.yarnplaza.com/product/4216/dmc-natura-xl.html\"\n",
    "driver = webdriver.Chrome()"
   ]
  },
  {
   "cell_type": "markdown",
   "metadata": {},
   "source": [
    "I used the `driver.get(url1)` the web address i want to scrip my data from"
   ]
  },
  {
   "cell_type": "code",
   "execution_count": 2,
   "metadata": {},
   "outputs": [],
   "source": [
    "driver.get(url1)"
   ]
  },
  {
   "cell_type": "markdown",
   "metadata": {},
   "source": [
    "I used **List Comprehension** in combination with an xpath `driver.find_elements_by_xpath()` to scrip the item i want."
   ]
  },
  {
   "cell_type": "code",
   "execution_count": 3,
   "metadata": {},
   "outputs": [
    {
     "name": "stderr",
     "output_type": "stream",
     "text": [
      "/home/acheampong/anaconda3/lib/python3.7/site-packages/ipykernel_launcher.py:1: DeprecationWarning: find_elements_by_* commands are deprecated. Please use find_elements() instead\n",
      "  \"\"\"Entry point for launching an IPython kernel.\n"
     ]
    }
   ],
   "source": [
    "name1 = [nam.text for nam in driver.find_elements_by_xpath(\"//h1\")]"
   ]
  },
  {
   "cell_type": "code",
   "execution_count": 4,
   "metadata": {
    "scrolled": true
   },
   "outputs": [
    {
     "name": "stdout",
     "output_type": "stream",
     "text": [
      "['DMC Natura XL 02 Black']\n"
     ]
    }
   ],
   "source": [
    "print(name1)"
   ]
  },
  {
   "cell_type": "markdown",
   "metadata": {},
   "source": [
    "I used **List Comprehension** in combination with an xpath `driver.find_elements_by_xpath()` to scrip the item i want."
   ]
  },
  {
   "cell_type": "code",
   "execution_count": 5,
   "metadata": {},
   "outputs": [
    {
     "name": "stderr",
     "output_type": "stream",
     "text": [
      "/home/acheampong/anaconda3/lib/python3.7/site-packages/ipykernel_launcher.py:1: DeprecationWarning: find_elements_by_* commands are deprecated. Please use find_elements() instead\n",
      "  \"\"\"Entry point for launching an IPython kernel.\n"
     ]
    }
   ],
   "source": [
    "price1 = [nam.text for nam in driver.find_elements_by_xpath(\"//*[@id='ContentPlaceHolder1_upPricePanel']/span/span[2]\")]"
   ]
  },
  {
   "cell_type": "code",
   "execution_count": 6,
   "metadata": {},
   "outputs": [
    {
     "name": "stdout",
     "output_type": "stream",
     "text": [
      "['8,53']\n"
     ]
    }
   ],
   "source": [
    "print(price1)"
   ]
  },
  {
   "cell_type": "markdown",
   "metadata": {},
   "source": [
    "Since this page is different from the I scriped earlie, I have to call the new page web address"
   ]
  },
  {
   "cell_type": "code",
   "execution_count": 7,
   "metadata": {},
   "outputs": [],
   "source": [
    "url2 = \"https://www.yarnplaza.com/yarn/brands\""
   ]
  },
  {
   "cell_type": "code",
   "execution_count": 8,
   "metadata": {},
   "outputs": [],
   "source": [
    "driver.get(url2)"
   ]
  },
  {
   "cell_type": "markdown",
   "metadata": {},
   "source": [
    "I used **List Comprehension** in combination with an xpath `driver.find_elements_by_xpath()` to scrip the item i want."
   ]
  },
  {
   "cell_type": "code",
   "execution_count": 9,
   "metadata": {},
   "outputs": [
    {
     "name": "stderr",
     "output_type": "stream",
     "text": [
      "/home/acheampong/anaconda3/lib/python3.7/site-packages/ipykernel_launcher.py:1: DeprecationWarning: find_elements_by_* commands are deprecated. Please use find_elements() instead\n",
      "  \"\"\"Entry point for launching an IPython kernel.\n"
     ]
    }
   ],
   "source": [
    "brands = [nam.text for nam in driver.find_elements_by_xpath(\"//h2\")]"
   ]
  },
  {
   "cell_type": "code",
   "execution_count": 10,
   "metadata": {},
   "outputs": [
    {
     "name": "stdout",
     "output_type": "stream",
     "text": [
      "['Budgetyarn', 'DMC', 'Drops', 'Durable', 'Go Handmade', 'Gütermann', 'Hoooked', 'Katia', 'Knit Collage', 'Lana Grossa', 'Lang Yarns', 'Phildar', 'Pink Label', 'Rico', 'SMC / Schachenmayr', 'Stylecraft', 'Yarn and Colors']\n"
     ]
    }
   ],
   "source": [
    "print(brands)"
   ]
  },
  {
   "cell_type": "markdown",
   "metadata": {},
   "source": [
    "Since this page is different from the I scriped earlie, I have to call the new page web address"
   ]
  },
  {
   "cell_type": "code",
   "execution_count": 11,
   "metadata": {},
   "outputs": [],
   "source": [
    "url3 = \"https://www.yarnplaza.com/product/35246/drops-safran-60-moss-green.html?sqr=Safran\""
   ]
  },
  {
   "cell_type": "code",
   "execution_count": 12,
   "metadata": {},
   "outputs": [],
   "source": [
    "driver.get(url3)"
   ]
  },
  {
   "cell_type": "markdown",
   "metadata": {},
   "source": [
    "I used **List Comprehension** in combination with an xpath `driver.find_elements_by_xpath()` to scrip the item i want."
   ]
  },
  {
   "cell_type": "code",
   "execution_count": 13,
   "metadata": {},
   "outputs": [
    {
     "name": "stderr",
     "output_type": "stream",
     "text": [
      "/home/acheampong/anaconda3/lib/python3.7/site-packages/ipykernel_launcher.py:1: DeprecationWarning: find_elements_by_* commands are deprecated. Please use find_elements() instead\n",
      "  \"\"\"Entry point for launching an IPython kernel.\n"
     ]
    }
   ],
   "source": [
    "name3 = [nam.text for nam in driver.find_elements_by_xpath(\"//h1\")]"
   ]
  },
  {
   "cell_type": "code",
   "execution_count": 14,
   "metadata": {},
   "outputs": [
    {
     "name": "stdout",
     "output_type": "stream",
     "text": [
      "['Drops Safran 60 Moss Green']\n"
     ]
    }
   ],
   "source": [
    "print(name3)"
   ]
  },
  {
   "cell_type": "markdown",
   "metadata": {},
   "source": [
    "I used **List Comprehension** in combination with an xpath `driver.find_elements_by_xpath()` to scrip the item i want."
   ]
  },
  {
   "cell_type": "code",
   "execution_count": 15,
   "metadata": {},
   "outputs": [
    {
     "name": "stderr",
     "output_type": "stream",
     "text": [
      "/home/acheampong/anaconda3/lib/python3.7/site-packages/ipykernel_launcher.py:1: DeprecationWarning: find_elements_by_* commands are deprecated. Please use find_elements() instead\n",
      "  \"\"\"Entry point for launching an IPython kernel.\n"
     ]
    }
   ],
   "source": [
    "price3 = [nam.text for nam in driver.find_elements_by_xpath(\"//*[@id='ContentPlaceHolder1_upPricePanel']/span/span[2]\")]"
   ]
  },
  {
   "cell_type": "code",
   "execution_count": 16,
   "metadata": {},
   "outputs": [
    {
     "name": "stdout",
     "output_type": "stream",
     "text": [
      "['1,03']\n"
     ]
    }
   ],
   "source": [
    "print(price3)"
   ]
  },
  {
   "cell_type": "markdown",
   "metadata": {},
   "source": [
    "Since this page is different from the I scriped earlie, I have to call the new page web address"
   ]
  },
  {
   "cell_type": "code",
   "execution_count": 17,
   "metadata": {},
   "outputs": [],
   "source": [
    "url4 = \"https://www.yarnplaza.com/yarn/stylecraft/stylecraft-special-dk?sqr=Special%20dk\""
   ]
  },
  {
   "cell_type": "code",
   "execution_count": 18,
   "metadata": {},
   "outputs": [],
   "source": [
    "driver.get(url4)"
   ]
  },
  {
   "cell_type": "markdown",
   "metadata": {},
   "source": [
    "I used **List Comprehension** in combination with an xpath `driver.find_elements_by_xpath()` to scrip the item i want."
   ]
  },
  {
   "cell_type": "code",
   "execution_count": 19,
   "metadata": {},
   "outputs": [
    {
     "name": "stderr",
     "output_type": "stream",
     "text": [
      "/home/acheampong/anaconda3/lib/python3.7/site-packages/ipykernel_launcher.py:1: DeprecationWarning: find_elements_by_* commands are deprecated. Please use find_elements() instead\n",
      "  \"\"\"Entry point for launching an IPython kernel.\n"
     ]
    }
   ],
   "source": [
    "name4 = [nam.text for nam in driver.find_elements_by_xpath(\"//h1\")]"
   ]
  },
  {
   "cell_type": "code",
   "execution_count": 20,
   "metadata": {},
   "outputs": [
    {
     "name": "stdout",
     "output_type": "stream",
     "text": [
      "['Stylecraft Special dk 1001 White']\n"
     ]
    }
   ],
   "source": [
    "print(name4)"
   ]
  },
  {
   "cell_type": "markdown",
   "metadata": {},
   "source": [
    "I used **List Comprehension** in combination with an xpath `driver.find_elements_by_xpath()` to scrip the item i want."
   ]
  },
  {
   "cell_type": "code",
   "execution_count": 21,
   "metadata": {},
   "outputs": [
    {
     "name": "stderr",
     "output_type": "stream",
     "text": [
      "/home/acheampong/anaconda3/lib/python3.7/site-packages/ipykernel_launcher.py:1: DeprecationWarning: find_elements_by_* commands are deprecated. Please use find_elements() instead\n",
      "  \"\"\"Entry point for launching an IPython kernel.\n"
     ]
    }
   ],
   "source": [
    "price4 = [nam.text for nam in driver.find_elements_by_xpath(\"//*[@id='ContentPlaceHolder1_upPricePanel']/span/span[2]\")]"
   ]
  },
  {
   "cell_type": "code",
   "execution_count": 22,
   "metadata": {},
   "outputs": [
    {
     "name": "stdout",
     "output_type": "stream",
     "text": [
      "['2,73']\n"
     ]
    }
   ],
   "source": [
    "print(price4)"
   ]
  },
  {
   "cell_type": "markdown",
   "metadata": {},
   "source": [
    "I created a new empty list with the name *names* <br>\n",
    "I used the list extend method `list.extend()` to put all the names in one list"
   ]
  },
  {
   "cell_type": "code",
   "execution_count": 23,
   "metadata": {},
   "outputs": [
    {
     "name": "stdout",
     "output_type": "stream",
     "text": [
      "['DMC Natura XL 02 Black', 'Drops Safran 60 Moss Green', 'Stylecraft Special dk 1001 White']\n"
     ]
    }
   ],
   "source": [
    "names = []\n",
    "names.extend(name1)\n",
    "names.extend(name3)\n",
    "names.extend(name4)\n",
    "print(names)"
   ]
  },
  {
   "cell_type": "markdown",
   "metadata": {},
   "source": [
    "I created a new empty list with the name *Amount* <br>\n",
    "I used the list extend method `list.extend()` to put all the prices in one list"
   ]
  },
  {
   "cell_type": "code",
   "execution_count": 24,
   "metadata": {},
   "outputs": [
    {
     "name": "stdout",
     "output_type": "stream",
     "text": [
      "['8,53', '1,03', '2,73']\n"
     ]
    }
   ],
   "source": [
    "Amount = []\n",
    "Amount.extend(price1)\n",
    "Amount.extend(price3)\n",
    "Amount.extend(price4)\n",
    "print(Amount)"
   ]
  },
  {
   "cell_type": "markdown",
   "metadata": {},
   "source": [
    "I created a new empty list with the name *Brand* <br>\n",
    "I used the list extend method `list.extend()` to put all the brands in one list"
   ]
  },
  {
   "cell_type": "code",
   "execution_count": 27,
   "metadata": {},
   "outputs": [
    {
     "name": "stdout",
     "output_type": "stream",
     "text": [
      "['DMC', 'Drops', 'Stylecraft']\n"
     ]
    }
   ],
   "source": [
    "Brand = []\n",
    "Brand.append(brands[1])\n",
    "Brand.append(brands[2])\n",
    "Brand.append(brands[-2])\n",
    "print(Brand)"
   ]
  },
  {
   "cell_type": "markdown",
   "metadata": {},
   "source": [
    "Since this page is different from the I scriped earlie, I have to call the new page web address"
   ]
  },
  {
   "cell_type": "code",
   "execution_count": 28,
   "metadata": {},
   "outputs": [],
   "source": [
    "url5 = \"https://www.yarnplaza.com/yarn/stylecraft/stylecraft-special-dk?sqr=Special%20dk\""
   ]
  },
  {
   "cell_type": "code",
   "execution_count": 29,
   "metadata": {},
   "outputs": [],
   "source": [
    "driver.get(url5)"
   ]
  },
  {
   "cell_type": "markdown",
   "metadata": {},
   "source": [
    "I used **List Comprehension** in combination with an xpath `driver.find_elements_by_xpath()` to scrip the item i want."
   ]
  },
  {
   "cell_type": "code",
   "execution_count": 30,
   "metadata": {},
   "outputs": [
    {
     "name": "stderr",
     "output_type": "stream",
     "text": [
      "/home/acheampong/anaconda3/lib/python3.7/site-packages/ipykernel_launcher.py:1: DeprecationWarning: find_elements_by_* commands are deprecated. Please use find_elements() instead\n",
      "  \"\"\"Entry point for launching an IPython kernel.\n"
     ]
    }
   ],
   "source": [
    "cop4 = [nam.text for nam in driver.find_elements_by_xpath(\"//*[@id='pdetailTableSpecs']/table/tbody/tr[3]/td[2]\")]"
   ]
  },
  {
   "cell_type": "code",
   "execution_count": 31,
   "metadata": {},
   "outputs": [
    {
     "name": "stdout",
     "output_type": "stream",
     "text": [
      "['100% Acrylic']\n"
     ]
    }
   ],
   "source": [
    "print(cop4)"
   ]
  },
  {
   "cell_type": "markdown",
   "metadata": {},
   "source": [
    "I used **List Comprehension** in combination with an xpath `driver.find_elements_by_xpath()` to scrip the item i want."
   ]
  },
  {
   "cell_type": "code",
   "execution_count": 32,
   "metadata": {},
   "outputs": [
    {
     "name": "stderr",
     "output_type": "stream",
     "text": [
      "/home/acheampong/anaconda3/lib/python3.7/site-packages/ipykernel_launcher.py:1: DeprecationWarning: find_elements_by_* commands are deprecated. Please use find_elements() instead\n",
      "  \"\"\"Entry point for launching an IPython kernel.\n"
     ]
    }
   ],
   "source": [
    "ned4 = [nam.text for nam in driver.find_elements_by_xpath(\"//*[@id='pdetailTableSpecs']/table/tbody/tr[4]/td[2]\")]"
   ]
  },
  {
   "cell_type": "code",
   "execution_count": 33,
   "metadata": {},
   "outputs": [
    {
     "name": "stdout",
     "output_type": "stream",
     "text": [
      "['4 mm']\n"
     ]
    }
   ],
   "source": [
    "print(ned4)"
   ]
  },
  {
   "cell_type": "markdown",
   "metadata": {},
   "source": [
    "Since this page is different from the I scriped earlie, I have to call the new page web address"
   ]
  },
  {
   "cell_type": "code",
   "execution_count": 34,
   "metadata": {},
   "outputs": [],
   "source": [
    "url6 = \"https://www.yarnplaza.com/product/35246/drops-safran-60-moss-green.html?sqr=Safran\""
   ]
  },
  {
   "cell_type": "code",
   "execution_count": 35,
   "metadata": {},
   "outputs": [],
   "source": [
    "driver.get(url6)"
   ]
  },
  {
   "cell_type": "markdown",
   "metadata": {},
   "source": [
    "I used **List Comprehension** in combination with an xpath `driver.find_elements_by_xpath()` to scrip the item i want."
   ]
  },
  {
   "cell_type": "code",
   "execution_count": 36,
   "metadata": {},
   "outputs": [
    {
     "name": "stderr",
     "output_type": "stream",
     "text": [
      "/home/acheampong/anaconda3/lib/python3.7/site-packages/ipykernel_launcher.py:1: DeprecationWarning: find_elements_by_* commands are deprecated. Please use find_elements() instead\n",
      "  \"\"\"Entry point for launching an IPython kernel.\n"
     ]
    }
   ],
   "source": [
    "cop3 = [nam.text for nam in driver.find_elements_by_xpath(\"//*[@id='pdetailTableSpecs']/table/tbody/tr[4]/td[2]\")]"
   ]
  },
  {
   "cell_type": "code",
   "execution_count": 37,
   "metadata": {},
   "outputs": [
    {
     "name": "stdout",
     "output_type": "stream",
     "text": [
      "['100% Cotton']\n"
     ]
    }
   ],
   "source": [
    "print(cop3)"
   ]
  },
  {
   "cell_type": "markdown",
   "metadata": {},
   "source": [
    "I used **List Comprehension** in combination with an xpath `driver.find_elements_by_xpath()` to scrip the item i want."
   ]
  },
  {
   "cell_type": "code",
   "execution_count": 38,
   "metadata": {},
   "outputs": [
    {
     "name": "stderr",
     "output_type": "stream",
     "text": [
      "/home/acheampong/anaconda3/lib/python3.7/site-packages/ipykernel_launcher.py:1: DeprecationWarning: find_elements_by_* commands are deprecated. Please use find_elements() instead\n",
      "  \"\"\"Entry point for launching an IPython kernel.\n"
     ]
    }
   ],
   "source": [
    "ned3 = [nam.text for nam in driver.find_elements_by_xpath(\"//*[@id='pdetailTableSpecs']/table/tbody/tr[5]/td[2]\")]"
   ]
  },
  {
   "cell_type": "code",
   "execution_count": 39,
   "metadata": {},
   "outputs": [
    {
     "name": "stdout",
     "output_type": "stream",
     "text": [
      "['3 mm']\n"
     ]
    }
   ],
   "source": [
    "print(ned3)"
   ]
  },
  {
   "cell_type": "markdown",
   "metadata": {},
   "source": [
    "Since this page is different from the I scriped earlie, I have to call the new page web address"
   ]
  },
  {
   "cell_type": "code",
   "execution_count": 40,
   "metadata": {},
   "outputs": [],
   "source": [
    "url7 = \"https://www.yarnplaza.com/product/4216/dmc-natura-xl.html?sqr=Natura%20XL\""
   ]
  },
  {
   "cell_type": "code",
   "execution_count": 41,
   "metadata": {},
   "outputs": [],
   "source": [
    "driver.get(url7)"
   ]
  },
  {
   "cell_type": "markdown",
   "metadata": {},
   "source": [
    "I used **List Comprehension** in combination with an xpath `driver.find_elements_by_xpath()` to scrip the item i want."
   ]
  },
  {
   "cell_type": "code",
   "execution_count": 42,
   "metadata": {},
   "outputs": [
    {
     "name": "stderr",
     "output_type": "stream",
     "text": [
      "/home/acheampong/anaconda3/lib/python3.7/site-packages/ipykernel_launcher.py:1: DeprecationWarning: find_elements_by_* commands are deprecated. Please use find_elements() instead\n",
      "  \"\"\"Entry point for launching an IPython kernel.\n"
     ]
    }
   ],
   "source": [
    "cop1 = [nam.text for nam in driver.find_elements_by_xpath(\"//*[@id='pdetailTableSpecs']/table/tbody/tr[4]/td[2]\")]"
   ]
  },
  {
   "cell_type": "code",
   "execution_count": 43,
   "metadata": {},
   "outputs": [
    {
     "name": "stdout",
     "output_type": "stream",
     "text": [
      "['100% Cotton']\n"
     ]
    }
   ],
   "source": [
    "print(cop1)"
   ]
  },
  {
   "cell_type": "markdown",
   "metadata": {},
   "source": [
    "I used **List Comprehension** in combination with an xpath `driver.find_elements_by_xpath()` to scrip the item i want."
   ]
  },
  {
   "cell_type": "code",
   "execution_count": 44,
   "metadata": {},
   "outputs": [
    {
     "name": "stderr",
     "output_type": "stream",
     "text": [
      "/home/acheampong/anaconda3/lib/python3.7/site-packages/ipykernel_launcher.py:1: DeprecationWarning: find_elements_by_* commands are deprecated. Please use find_elements() instead\n",
      "  \"\"\"Entry point for launching an IPython kernel.\n"
     ]
    }
   ],
   "source": [
    "ned1 = [nam.text for nam in driver.find_elements_by_xpath(\"//*[@id='pdetailTableSpecs']/table/tbody/tr[5]/td[2]\")]"
   ]
  },
  {
   "cell_type": "code",
   "execution_count": 45,
   "metadata": {},
   "outputs": [
    {
     "name": "stdout",
     "output_type": "stream",
     "text": [
      "['8 mm']\n"
     ]
    }
   ],
   "source": [
    "print(ned1)"
   ]
  },
  {
   "cell_type": "markdown",
   "metadata": {},
   "source": [
    "I created a new empty list with the name *Compos* <br>\n",
    "I used the list extend method `list.extend()` to put all the composition in one list"
   ]
  },
  {
   "cell_type": "code",
   "execution_count": 46,
   "metadata": {},
   "outputs": [
    {
     "name": "stdout",
     "output_type": "stream",
     "text": [
      "['100% Cotton', '100% Cotton', '100% Acrylic']\n"
     ]
    }
   ],
   "source": [
    "Compos = []\n",
    "Compos.extend(cop1)\n",
    "Compos.extend(cop3)\n",
    "Compos.extend(cop4)\n",
    "print(Compos)"
   ]
  },
  {
   "cell_type": "markdown",
   "metadata": {},
   "source": [
    "I created a new empty list with the name *Need* <br>\n",
    "I used the list extend method `list.extend()` to put all the needle size in one list"
   ]
  },
  {
   "cell_type": "code",
   "execution_count": 47,
   "metadata": {},
   "outputs": [
    {
     "name": "stdout",
     "output_type": "stream",
     "text": [
      "['8 mm', '3 mm', '4 mm']\n"
     ]
    }
   ],
   "source": [
    "Need = []\n",
    "Need.extend(ned1)\n",
    "Need.extend(ned3)\n",
    "Need.extend(ned4)\n",
    "print(Need)"
   ]
  },
  {
   "cell_type": "markdown",
   "metadata": {},
   "source": [
    "I imported pandas<br>\n",
    "I used the pandas to create DataFrame"
   ]
  },
  {
   "cell_type": "code",
   "execution_count": 48,
   "metadata": {},
   "outputs": [
    {
     "data": {
      "text/html": [
       "<div>\n",
       "<style scoped>\n",
       "    .dataframe tbody tr th:only-of-type {\n",
       "        vertical-align: middle;\n",
       "    }\n",
       "\n",
       "    .dataframe tbody tr th {\n",
       "        vertical-align: top;\n",
       "    }\n",
       "\n",
       "    .dataframe thead th {\n",
       "        text-align: right;\n",
       "    }\n",
       "</style>\n",
       "<table border=\"1\" class=\"dataframe\">\n",
       "  <thead>\n",
       "    <tr style=\"text-align: right;\">\n",
       "      <th></th>\n",
       "      <th>Brand</th>\n",
       "      <th>Name</th>\n",
       "      <th>Price</th>\n",
       "      <th>Needle Size</th>\n",
       "      <th>Composition</th>\n",
       "    </tr>\n",
       "  </thead>\n",
       "  <tbody>\n",
       "    <tr>\n",
       "      <th>0</th>\n",
       "      <td>DMC</td>\n",
       "      <td>DMC Natura XL 02 Black</td>\n",
       "      <td>8,53</td>\n",
       "      <td>8 mm</td>\n",
       "      <td>100% Cotton</td>\n",
       "    </tr>\n",
       "    <tr>\n",
       "      <th>1</th>\n",
       "      <td>Drops</td>\n",
       "      <td>Drops Safran 60 Moss Green</td>\n",
       "      <td>1,03</td>\n",
       "      <td>3 mm</td>\n",
       "      <td>100% Cotton</td>\n",
       "    </tr>\n",
       "    <tr>\n",
       "      <th>2</th>\n",
       "      <td>Stylecraft</td>\n",
       "      <td>Stylecraft Special dk 1001 White</td>\n",
       "      <td>2,73</td>\n",
       "      <td>4 mm</td>\n",
       "      <td>100% Acrylic</td>\n",
       "    </tr>\n",
       "  </tbody>\n",
       "</table>\n",
       "</div>"
      ],
      "text/plain": [
       "        Brand                              Name Price Needle Size  \\\n",
       "0         DMC            DMC Natura XL 02 Black  8,53        8 mm   \n",
       "1       Drops        Drops Safran 60 Moss Green  1,03        3 mm   \n",
       "2  Stylecraft  Stylecraft Special dk 1001 White  2,73        4 mm   \n",
       "\n",
       "    Composition  \n",
       "0   100% Cotton  \n",
       "1   100% Cotton  \n",
       "2  100% Acrylic  "
      ]
     },
     "execution_count": 48,
     "metadata": {},
     "output_type": "execute_result"
    }
   ],
   "source": [
    "import pandas as pd\n",
    "df = pd.DataFrame({\n",
    "    \"Brand\": Brand,\n",
    "    \"Name\":names,\n",
    "    \"Price\" : Amount,\n",
    "    \"Needle Size\": Need,\n",
    "    \"Composition\":Compos\n",
    "})\n",
    "df.head()"
   ]
  },
  {
   "cell_type": "markdown",
   "metadata": {},
   "source": [
    "I store my DataFrame in a csv file"
   ]
  },
  {
   "cell_type": "code",
   "execution_count": 49,
   "metadata": {},
   "outputs": [],
   "source": [
    "df.to_csv(\"Data Gathering1.csv\")"
   ]
  }
 ],
 "metadata": {
  "kernelspec": {
   "display_name": "Python 3",
   "language": "python",
   "name": "python3"
  },
  "language_info": {
   "codemirror_mode": {
    "name": "ipython",
    "version": 3
   },
   "file_extension": ".py",
   "mimetype": "text/x-python",
   "name": "python",
   "nbconvert_exporter": "python",
   "pygments_lexer": "ipython3",
   "version": "3.7.6"
  }
 },
 "nbformat": 4,
 "nbformat_minor": 4
}
