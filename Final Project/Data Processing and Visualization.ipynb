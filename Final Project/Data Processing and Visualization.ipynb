{
 "cells": [
  {
   "cell_type": "code",
   "execution_count": 1,
   "metadata": {},
   "outputs": [],
   "source": [
    "import numpy as np\n",
    "import pandas as pd\n",
    "import matplotlib.pyplot as plt\n",
    "import matplotlib as mpl\n",
    "%matplotlib inline"
   ]
  },
  {
   "cell_type": "code",
   "execution_count": 2,
   "metadata": {},
   "outputs": [],
   "source": [
    "cfile = pd.read_csv(\"timeseries.csv\")"
   ]
  },
  {
   "cell_type": "markdown",
   "metadata": {},
   "source": [
    "# Overview of the Dataset\n",
    "The dataset contains information about a hospital <br>\n",
    "The dataset contains 39 columns and an unknown rows<br>\n",
    "The dataset contains 19539 entries<br>\n",
    "Below is the summary of the dataset"
   ]
  },
  {
   "cell_type": "code",
   "execution_count": 3,
   "metadata": {},
   "outputs": [
    {
     "name": "stdout",
     "output_type": "stream",
     "text": [
      "<class 'pandas.core.frame.DataFrame'>\n",
      "RangeIndex: 501 entries, 0 to 500\n",
      "Data columns (total 39 columns):\n",
      " #   Column                                  Non-Null Count  Dtype  \n",
      "---  ------                                  --------------  -----  \n",
      " 0   date                                    501 non-null    object \n",
      " 1   country                                 501 non-null    object \n",
      " 2   state                                   501 non-null    object \n",
      " 3   county                                  0 non-null      float64\n",
      " 4   fips                                    501 non-null    int64  \n",
      " 5   lat                                     0 non-null      float64\n",
      " 6   long                                    0 non-null      float64\n",
      " 7   locationId                              501 non-null    object \n",
      " 8   actuals.cases                           492 non-null    float64\n",
      " 9   actuals.deaths                          492 non-null    float64\n",
      " 10  actuals.positiveTests                   496 non-null    float64\n",
      " 11  actuals.negativeTests                   498 non-null    float64\n",
      " 12  actuals.contactTracers                  501 non-null    object \n",
      " 13  actuals.hospitalBeds.capacity           0 non-null      float64\n",
      " 14  actuals.hospitalBeds.currentUsageTotal  302 non-null    float64\n",
      " 15  actuals.hospitalBeds.currentUsageCovid  302 non-null    float64\n",
      " 16  actuals.hospitalBeds.typicalUsageRate   0 non-null      float64\n",
      " 17  actuals.icuBeds.capacity                302 non-null    float64\n",
      " 18  actuals.icuBeds.currentUsageTotal       302 non-null    float64\n",
      " 19  actuals.icuBeds.currentUsageCovid       495 non-null    object \n",
      " 20  actuals.icuBeds.typicalUsageRate        0 non-null      float64\n",
      " 21  actuals.newCases                        488 non-null    float64\n",
      " 22  actuals.vaccinesDistributed             156 non-null    float64\n",
      " 23  actuals.vaccinationsInitiated           156 non-null    float64\n",
      " 24  actuals.vaccinationsCompleted           156 non-null    float64\n",
      " 25  metrics.testPositivityRatio             494 non-null    float64\n",
      " 26  metrics.testPositivityRatioDetails      0 non-null      float64\n",
      " 27  metrics.caseDensity                     498 non-null    float64\n",
      " 28  metrics.contactTracerCapacityRatio      418 non-null    float64\n",
      " 29  metrics.infectionRate                   488 non-null    float64\n",
      " 30  metrics.infectionRateCI90               488 non-null    float64\n",
      " 31  metrics.icuHeadroomRatio                302 non-null    float64\n",
      " 32  metrics.icuHeadroomDetails              0 non-null      float64\n",
      " 33  metrics.icuCapacityRatio                302 non-null    float64\n",
      " 34  riskLevels.overall                      501 non-null    int64  \n",
      " 35  metrics.vaccinationsInitiatedRatio      156 non-null    float64\n",
      " 36  metrics.vaccinationsCompletedRatio      156 non-null    float64\n",
      " 37  actuals.newDeaths                       489 non-null    float64\n",
      " 38  actuals.vaccinesAdministered            156 non-null    float64\n",
      "dtypes: float64(31), int64(2), object(6)\n",
      "memory usage: 152.8+ KB\n"
     ]
    }
   ],
   "source": [
    "cfile.info()"
   ]
  },
  {
   "cell_type": "code",
   "execution_count": 4,
   "metadata": {},
   "outputs": [
    {
     "data": {
      "text/plain": [
       "19539"
      ]
     },
     "execution_count": 4,
     "metadata": {},
     "output_type": "execute_result"
    }
   ],
   "source": [
    "# the size of the dataset\n",
    "\n",
    "cfile.size "
   ]
  },
  {
   "cell_type": "code",
   "execution_count": 5,
   "metadata": {},
   "outputs": [
    {
     "data": {
      "text/html": [
       "<div>\n",
       "<style scoped>\n",
       "    .dataframe tbody tr th:only-of-type {\n",
       "        vertical-align: middle;\n",
       "    }\n",
       "\n",
       "    .dataframe tbody tr th {\n",
       "        vertical-align: top;\n",
       "    }\n",
       "\n",
       "    .dataframe thead th {\n",
       "        text-align: right;\n",
       "    }\n",
       "</style>\n",
       "<table border=\"1\" class=\"dataframe\">\n",
       "  <thead>\n",
       "    <tr style=\"text-align: right;\">\n",
       "      <th></th>\n",
       "      <th>date</th>\n",
       "      <th>country</th>\n",
       "      <th>state</th>\n",
       "      <th>county</th>\n",
       "      <th>fips</th>\n",
       "      <th>lat</th>\n",
       "      <th>long</th>\n",
       "      <th>locationId</th>\n",
       "      <th>actuals.cases</th>\n",
       "      <th>actuals.deaths</th>\n",
       "      <th>...</th>\n",
       "      <th>metrics.infectionRate</th>\n",
       "      <th>metrics.infectionRateCI90</th>\n",
       "      <th>metrics.icuHeadroomRatio</th>\n",
       "      <th>metrics.icuHeadroomDetails</th>\n",
       "      <th>metrics.icuCapacityRatio</th>\n",
       "      <th>riskLevels.overall</th>\n",
       "      <th>metrics.vaccinationsInitiatedRatio</th>\n",
       "      <th>metrics.vaccinationsCompletedRatio</th>\n",
       "      <th>actuals.newDeaths</th>\n",
       "      <th>actuals.vaccinesAdministered</th>\n",
       "    </tr>\n",
       "  </thead>\n",
       "  <tbody>\n",
       "    <tr>\n",
       "      <th>0</th>\n",
       "      <td>2020-03-02</td>\n",
       "      <td>US</td>\n",
       "      <td>PA</td>\n",
       "      <td>NaN</td>\n",
       "      <td>42</td>\n",
       "      <td>NaN</td>\n",
       "      <td>NaN</td>\n",
       "      <td>iso1:us#iso2:us-pa</td>\n",
       "      <td>NaN</td>\n",
       "      <td>NaN</td>\n",
       "      <td>...</td>\n",
       "      <td>NaN</td>\n",
       "      <td>NaN</td>\n",
       "      <td>NaN</td>\n",
       "      <td>NaN</td>\n",
       "      <td>NaN</td>\n",
       "      <td>0</td>\n",
       "      <td>NaN</td>\n",
       "      <td>NaN</td>\n",
       "      <td>NaN</td>\n",
       "      <td>NaN</td>\n",
       "    </tr>\n",
       "    <tr>\n",
       "      <th>1</th>\n",
       "      <td>2020-03-03</td>\n",
       "      <td>US</td>\n",
       "      <td>PA</td>\n",
       "      <td>NaN</td>\n",
       "      <td>42</td>\n",
       "      <td>NaN</td>\n",
       "      <td>NaN</td>\n",
       "      <td>iso1:us#iso2:us-pa</td>\n",
       "      <td>NaN</td>\n",
       "      <td>NaN</td>\n",
       "      <td>...</td>\n",
       "      <td>NaN</td>\n",
       "      <td>NaN</td>\n",
       "      <td>NaN</td>\n",
       "      <td>NaN</td>\n",
       "      <td>NaN</td>\n",
       "      <td>0</td>\n",
       "      <td>NaN</td>\n",
       "      <td>NaN</td>\n",
       "      <td>NaN</td>\n",
       "      <td>NaN</td>\n",
       "    </tr>\n",
       "    <tr>\n",
       "      <th>2</th>\n",
       "      <td>2020-03-04</td>\n",
       "      <td>US</td>\n",
       "      <td>PA</td>\n",
       "      <td>NaN</td>\n",
       "      <td>42</td>\n",
       "      <td>NaN</td>\n",
       "      <td>NaN</td>\n",
       "      <td>iso1:us#iso2:us-pa</td>\n",
       "      <td>NaN</td>\n",
       "      <td>NaN</td>\n",
       "      <td>...</td>\n",
       "      <td>NaN</td>\n",
       "      <td>NaN</td>\n",
       "      <td>NaN</td>\n",
       "      <td>NaN</td>\n",
       "      <td>NaN</td>\n",
       "      <td>0</td>\n",
       "      <td>NaN</td>\n",
       "      <td>NaN</td>\n",
       "      <td>NaN</td>\n",
       "      <td>NaN</td>\n",
       "    </tr>\n",
       "    <tr>\n",
       "      <th>3</th>\n",
       "      <td>2020-03-05</td>\n",
       "      <td>US</td>\n",
       "      <td>PA</td>\n",
       "      <td>NaN</td>\n",
       "      <td>42</td>\n",
       "      <td>NaN</td>\n",
       "      <td>NaN</td>\n",
       "      <td>iso1:us#iso2:us-pa</td>\n",
       "      <td>NaN</td>\n",
       "      <td>NaN</td>\n",
       "      <td>...</td>\n",
       "      <td>NaN</td>\n",
       "      <td>NaN</td>\n",
       "      <td>NaN</td>\n",
       "      <td>NaN</td>\n",
       "      <td>NaN</td>\n",
       "      <td>0</td>\n",
       "      <td>NaN</td>\n",
       "      <td>NaN</td>\n",
       "      <td>NaN</td>\n",
       "      <td>NaN</td>\n",
       "    </tr>\n",
       "    <tr>\n",
       "      <th>4</th>\n",
       "      <td>2020-03-06</td>\n",
       "      <td>US</td>\n",
       "      <td>PA</td>\n",
       "      <td>NaN</td>\n",
       "      <td>42</td>\n",
       "      <td>NaN</td>\n",
       "      <td>NaN</td>\n",
       "      <td>iso1:us#iso2:us-pa</td>\n",
       "      <td>2.0</td>\n",
       "      <td>0.0</td>\n",
       "      <td>...</td>\n",
       "      <td>NaN</td>\n",
       "      <td>NaN</td>\n",
       "      <td>NaN</td>\n",
       "      <td>NaN</td>\n",
       "      <td>NaN</td>\n",
       "      <td>0</td>\n",
       "      <td>NaN</td>\n",
       "      <td>NaN</td>\n",
       "      <td>NaN</td>\n",
       "      <td>NaN</td>\n",
       "    </tr>\n",
       "  </tbody>\n",
       "</table>\n",
       "<p>5 rows × 39 columns</p>\n",
       "</div>"
      ],
      "text/plain": [
       "         date country state  county  fips  lat  long          locationId  \\\n",
       "0  2020-03-02      US    PA     NaN    42  NaN   NaN  iso1:us#iso2:us-pa   \n",
       "1  2020-03-03      US    PA     NaN    42  NaN   NaN  iso1:us#iso2:us-pa   \n",
       "2  2020-03-04      US    PA     NaN    42  NaN   NaN  iso1:us#iso2:us-pa   \n",
       "3  2020-03-05      US    PA     NaN    42  NaN   NaN  iso1:us#iso2:us-pa   \n",
       "4  2020-03-06      US    PA     NaN    42  NaN   NaN  iso1:us#iso2:us-pa   \n",
       "\n",
       "   actuals.cases  actuals.deaths  ...  metrics.infectionRate  \\\n",
       "0            NaN             NaN  ...                    NaN   \n",
       "1            NaN             NaN  ...                    NaN   \n",
       "2            NaN             NaN  ...                    NaN   \n",
       "3            NaN             NaN  ...                    NaN   \n",
       "4            2.0             0.0  ...                    NaN   \n",
       "\n",
       "   metrics.infectionRateCI90 metrics.icuHeadroomRatio  \\\n",
       "0                        NaN                      NaN   \n",
       "1                        NaN                      NaN   \n",
       "2                        NaN                      NaN   \n",
       "3                        NaN                      NaN   \n",
       "4                        NaN                      NaN   \n",
       "\n",
       "   metrics.icuHeadroomDetails  metrics.icuCapacityRatio  riskLevels.overall  \\\n",
       "0                         NaN                       NaN                   0   \n",
       "1                         NaN                       NaN                   0   \n",
       "2                         NaN                       NaN                   0   \n",
       "3                         NaN                       NaN                   0   \n",
       "4                         NaN                       NaN                   0   \n",
       "\n",
       "   metrics.vaccinationsInitiatedRatio  metrics.vaccinationsCompletedRatio  \\\n",
       "0                                 NaN                                 NaN   \n",
       "1                                 NaN                                 NaN   \n",
       "2                                 NaN                                 NaN   \n",
       "3                                 NaN                                 NaN   \n",
       "4                                 NaN                                 NaN   \n",
       "\n",
       "   actuals.newDeaths actuals.vaccinesAdministered  \n",
       "0                NaN                          NaN  \n",
       "1                NaN                          NaN  \n",
       "2                NaN                          NaN  \n",
       "3                NaN                          NaN  \n",
       "4                NaN                          NaN  \n",
       "\n",
       "[5 rows x 39 columns]"
      ]
     },
     "execution_count": 5,
     "metadata": {},
     "output_type": "execute_result"
    }
   ],
   "source": [
    "#the first five rows of the dataset\n",
    "\n",
    "cfile.head()"
   ]
  },
  {
   "cell_type": "code",
   "execution_count": 6,
   "metadata": {},
   "outputs": [
    {
     "data": {
      "text/html": [
       "<div>\n",
       "<style scoped>\n",
       "    .dataframe tbody tr th:only-of-type {\n",
       "        vertical-align: middle;\n",
       "    }\n",
       "\n",
       "    .dataframe tbody tr th {\n",
       "        vertical-align: top;\n",
       "    }\n",
       "\n",
       "    .dataframe thead th {\n",
       "        text-align: right;\n",
       "    }\n",
       "</style>\n",
       "<table border=\"1\" class=\"dataframe\">\n",
       "  <thead>\n",
       "    <tr style=\"text-align: right;\">\n",
       "      <th></th>\n",
       "      <th>date</th>\n",
       "      <th>country</th>\n",
       "      <th>state</th>\n",
       "      <th>county</th>\n",
       "      <th>fips</th>\n",
       "      <th>lat</th>\n",
       "      <th>long</th>\n",
       "      <th>locationId</th>\n",
       "      <th>actuals.cases</th>\n",
       "      <th>actuals.deaths</th>\n",
       "      <th>...</th>\n",
       "      <th>metrics.infectionRate</th>\n",
       "      <th>metrics.infectionRateCI90</th>\n",
       "      <th>metrics.icuHeadroomRatio</th>\n",
       "      <th>metrics.icuHeadroomDetails</th>\n",
       "      <th>metrics.icuCapacityRatio</th>\n",
       "      <th>riskLevels.overall</th>\n",
       "      <th>metrics.vaccinationsInitiatedRatio</th>\n",
       "      <th>metrics.vaccinationsCompletedRatio</th>\n",
       "      <th>actuals.newDeaths</th>\n",
       "      <th>actuals.vaccinesAdministered</th>\n",
       "    </tr>\n",
       "  </thead>\n",
       "  <tbody>\n",
       "    <tr>\n",
       "      <th>496</th>\n",
       "      <td>2021-06-21</td>\n",
       "      <td>US</td>\n",
       "      <td>PA</td>\n",
       "      <td>NaN</td>\n",
       "      <td>42</td>\n",
       "      <td>NaN</td>\n",
       "      <td>NaN</td>\n",
       "      <td>iso1:us#iso2:us-pa</td>\n",
       "      <td>1215116.0</td>\n",
       "      <td>27623.0</td>\n",
       "      <td>...</td>\n",
       "      <td>0.68</td>\n",
       "      <td>0.12</td>\n",
       "      <td>NaN</td>\n",
       "      <td>NaN</td>\n",
       "      <td>NaN</td>\n",
       "      <td>1</td>\n",
       "      <td>0.619</td>\n",
       "      <td>0.485</td>\n",
       "      <td>2.0</td>\n",
       "      <td>13631788.0</td>\n",
       "    </tr>\n",
       "    <tr>\n",
       "      <th>497</th>\n",
       "      <td>2021-06-22</td>\n",
       "      <td>US</td>\n",
       "      <td>PA</td>\n",
       "      <td>NaN</td>\n",
       "      <td>42</td>\n",
       "      <td>NaN</td>\n",
       "      <td>NaN</td>\n",
       "      <td>iso1:us#iso2:us-pa</td>\n",
       "      <td>1215239.0</td>\n",
       "      <td>27655.0</td>\n",
       "      <td>...</td>\n",
       "      <td>0.68</td>\n",
       "      <td>0.14</td>\n",
       "      <td>NaN</td>\n",
       "      <td>NaN</td>\n",
       "      <td>NaN</td>\n",
       "      <td>1</td>\n",
       "      <td>0.620</td>\n",
       "      <td>0.486</td>\n",
       "      <td>32.0</td>\n",
       "      <td>13651077.0</td>\n",
       "    </tr>\n",
       "    <tr>\n",
       "      <th>498</th>\n",
       "      <td>2021-06-23</td>\n",
       "      <td>US</td>\n",
       "      <td>PA</td>\n",
       "      <td>NaN</td>\n",
       "      <td>42</td>\n",
       "      <td>NaN</td>\n",
       "      <td>NaN</td>\n",
       "      <td>iso1:us#iso2:us-pa</td>\n",
       "      <td>1215374.0</td>\n",
       "      <td>27662.0</td>\n",
       "      <td>...</td>\n",
       "      <td>0.67</td>\n",
       "      <td>0.16</td>\n",
       "      <td>NaN</td>\n",
       "      <td>NaN</td>\n",
       "      <td>NaN</td>\n",
       "      <td>1</td>\n",
       "      <td>0.621</td>\n",
       "      <td>0.487</td>\n",
       "      <td>7.0</td>\n",
       "      <td>13679110.0</td>\n",
       "    </tr>\n",
       "    <tr>\n",
       "      <th>499</th>\n",
       "      <td>2021-06-24</td>\n",
       "      <td>US</td>\n",
       "      <td>PA</td>\n",
       "      <td>NaN</td>\n",
       "      <td>42</td>\n",
       "      <td>NaN</td>\n",
       "      <td>NaN</td>\n",
       "      <td>iso1:us#iso2:us-pa</td>\n",
       "      <td>1215735.0</td>\n",
       "      <td>27675.0</td>\n",
       "      <td>...</td>\n",
       "      <td>0.67</td>\n",
       "      <td>0.18</td>\n",
       "      <td>NaN</td>\n",
       "      <td>NaN</td>\n",
       "      <td>NaN</td>\n",
       "      <td>1</td>\n",
       "      <td>0.622</td>\n",
       "      <td>0.489</td>\n",
       "      <td>13.0</td>\n",
       "      <td>13715484.0</td>\n",
       "    </tr>\n",
       "    <tr>\n",
       "      <th>500</th>\n",
       "      <td>2021-06-25</td>\n",
       "      <td>US</td>\n",
       "      <td>PA</td>\n",
       "      <td>NaN</td>\n",
       "      <td>42</td>\n",
       "      <td>NaN</td>\n",
       "      <td>NaN</td>\n",
       "      <td>iso1:us#iso2:us-pa</td>\n",
       "      <td>NaN</td>\n",
       "      <td>NaN</td>\n",
       "      <td>...</td>\n",
       "      <td>NaN</td>\n",
       "      <td>NaN</td>\n",
       "      <td>NaN</td>\n",
       "      <td>NaN</td>\n",
       "      <td>NaN</td>\n",
       "      <td>1</td>\n",
       "      <td>NaN</td>\n",
       "      <td>NaN</td>\n",
       "      <td>NaN</td>\n",
       "      <td>NaN</td>\n",
       "    </tr>\n",
       "  </tbody>\n",
       "</table>\n",
       "<p>5 rows × 39 columns</p>\n",
       "</div>"
      ],
      "text/plain": [
       "           date country state  county  fips  lat  long          locationId  \\\n",
       "496  2021-06-21      US    PA     NaN    42  NaN   NaN  iso1:us#iso2:us-pa   \n",
       "497  2021-06-22      US    PA     NaN    42  NaN   NaN  iso1:us#iso2:us-pa   \n",
       "498  2021-06-23      US    PA     NaN    42  NaN   NaN  iso1:us#iso2:us-pa   \n",
       "499  2021-06-24      US    PA     NaN    42  NaN   NaN  iso1:us#iso2:us-pa   \n",
       "500  2021-06-25      US    PA     NaN    42  NaN   NaN  iso1:us#iso2:us-pa   \n",
       "\n",
       "     actuals.cases  actuals.deaths  ...  metrics.infectionRate  \\\n",
       "496      1215116.0         27623.0  ...                   0.68   \n",
       "497      1215239.0         27655.0  ...                   0.68   \n",
       "498      1215374.0         27662.0  ...                   0.67   \n",
       "499      1215735.0         27675.0  ...                   0.67   \n",
       "500            NaN             NaN  ...                    NaN   \n",
       "\n",
       "     metrics.infectionRateCI90 metrics.icuHeadroomRatio  \\\n",
       "496                       0.12                      NaN   \n",
       "497                       0.14                      NaN   \n",
       "498                       0.16                      NaN   \n",
       "499                       0.18                      NaN   \n",
       "500                        NaN                      NaN   \n",
       "\n",
       "     metrics.icuHeadroomDetails  metrics.icuCapacityRatio  riskLevels.overall  \\\n",
       "496                         NaN                       NaN                   1   \n",
       "497                         NaN                       NaN                   1   \n",
       "498                         NaN                       NaN                   1   \n",
       "499                         NaN                       NaN                   1   \n",
       "500                         NaN                       NaN                   1   \n",
       "\n",
       "     metrics.vaccinationsInitiatedRatio  metrics.vaccinationsCompletedRatio  \\\n",
       "496                               0.619                               0.485   \n",
       "497                               0.620                               0.486   \n",
       "498                               0.621                               0.487   \n",
       "499                               0.622                               0.489   \n",
       "500                                 NaN                                 NaN   \n",
       "\n",
       "     actuals.newDeaths actuals.vaccinesAdministered  \n",
       "496                2.0                   13631788.0  \n",
       "497               32.0                   13651077.0  \n",
       "498                7.0                   13679110.0  \n",
       "499               13.0                   13715484.0  \n",
       "500                NaN                          NaN  \n",
       "\n",
       "[5 rows x 39 columns]"
      ]
     },
     "execution_count": 6,
     "metadata": {},
     "output_type": "execute_result"
    }
   ],
   "source": [
    "#the last five rows of the dataset\n",
    "\n",
    "cfile.tail()"
   ]
  },
  {
   "cell_type": "code",
   "execution_count": 7,
   "metadata": {},
   "outputs": [
    {
     "data": {
      "text/plain": [
       "<bound method DataFrame.duplicated of            date country state  county  fips  lat  long          locationId  \\\n",
       "0    2020-03-02      US    PA     NaN    42  NaN   NaN  iso1:us#iso2:us-pa   \n",
       "1    2020-03-03      US    PA     NaN    42  NaN   NaN  iso1:us#iso2:us-pa   \n",
       "2    2020-03-04      US    PA     NaN    42  NaN   NaN  iso1:us#iso2:us-pa   \n",
       "3    2020-03-05      US    PA     NaN    42  NaN   NaN  iso1:us#iso2:us-pa   \n",
       "4    2020-03-06      US    PA     NaN    42  NaN   NaN  iso1:us#iso2:us-pa   \n",
       "..          ...     ...   ...     ...   ...  ...   ...                 ...   \n",
       "496  2021-06-21      US    PA     NaN    42  NaN   NaN  iso1:us#iso2:us-pa   \n",
       "497  2021-06-22      US    PA     NaN    42  NaN   NaN  iso1:us#iso2:us-pa   \n",
       "498  2021-06-23      US    PA     NaN    42  NaN   NaN  iso1:us#iso2:us-pa   \n",
       "499  2021-06-24      US    PA     NaN    42  NaN   NaN  iso1:us#iso2:us-pa   \n",
       "500  2021-06-25      US    PA     NaN    42  NaN   NaN  iso1:us#iso2:us-pa   \n",
       "\n",
       "     actuals.cases  actuals.deaths  ...  metrics.infectionRate  \\\n",
       "0              NaN             NaN  ...                    NaN   \n",
       "1              NaN             NaN  ...                    NaN   \n",
       "2              NaN             NaN  ...                    NaN   \n",
       "3              NaN             NaN  ...                    NaN   \n",
       "4              2.0             0.0  ...                    NaN   \n",
       "..             ...             ...  ...                    ...   \n",
       "496      1215116.0         27623.0  ...                   0.68   \n",
       "497      1215239.0         27655.0  ...                   0.68   \n",
       "498      1215374.0         27662.0  ...                   0.67   \n",
       "499      1215735.0         27675.0  ...                   0.67   \n",
       "500            NaN             NaN  ...                    NaN   \n",
       "\n",
       "     metrics.infectionRateCI90 metrics.icuHeadroomRatio  \\\n",
       "0                          NaN                      NaN   \n",
       "1                          NaN                      NaN   \n",
       "2                          NaN                      NaN   \n",
       "3                          NaN                      NaN   \n",
       "4                          NaN                      NaN   \n",
       "..                         ...                      ...   \n",
       "496                       0.12                      NaN   \n",
       "497                       0.14                      NaN   \n",
       "498                       0.16                      NaN   \n",
       "499                       0.18                      NaN   \n",
       "500                        NaN                      NaN   \n",
       "\n",
       "     metrics.icuHeadroomDetails  metrics.icuCapacityRatio  riskLevels.overall  \\\n",
       "0                           NaN                       NaN                   0   \n",
       "1                           NaN                       NaN                   0   \n",
       "2                           NaN                       NaN                   0   \n",
       "3                           NaN                       NaN                   0   \n",
       "4                           NaN                       NaN                   0   \n",
       "..                          ...                       ...                 ...   \n",
       "496                         NaN                       NaN                   1   \n",
       "497                         NaN                       NaN                   1   \n",
       "498                         NaN                       NaN                   1   \n",
       "499                         NaN                       NaN                   1   \n",
       "500                         NaN                       NaN                   1   \n",
       "\n",
       "     metrics.vaccinationsInitiatedRatio  metrics.vaccinationsCompletedRatio  \\\n",
       "0                                   NaN                                 NaN   \n",
       "1                                   NaN                                 NaN   \n",
       "2                                   NaN                                 NaN   \n",
       "3                                   NaN                                 NaN   \n",
       "4                                   NaN                                 NaN   \n",
       "..                                  ...                                 ...   \n",
       "496                               0.619                               0.485   \n",
       "497                               0.620                               0.486   \n",
       "498                               0.621                               0.487   \n",
       "499                               0.622                               0.489   \n",
       "500                                 NaN                                 NaN   \n",
       "\n",
       "     actuals.newDeaths actuals.vaccinesAdministered  \n",
       "0                  NaN                          NaN  \n",
       "1                  NaN                          NaN  \n",
       "2                  NaN                          NaN  \n",
       "3                  NaN                          NaN  \n",
       "4                  NaN                          NaN  \n",
       "..                 ...                          ...  \n",
       "496                2.0                   13631788.0  \n",
       "497               32.0                   13651077.0  \n",
       "498                7.0                   13679110.0  \n",
       "499               13.0                   13715484.0  \n",
       "500                NaN                          NaN  \n",
       "\n",
       "[501 rows x 39 columns]>"
      ]
     },
     "execution_count": 7,
     "metadata": {},
     "output_type": "execute_result"
    }
   ],
   "source": [
    "# I used this code to checked the duplicate\n",
    "cfile.duplicated"
   ]
  },
  {
   "cell_type": "code",
   "execution_count": 8,
   "metadata": {},
   "outputs": [],
   "source": [
    "#passing the date as an index\n",
    "\n",
    "cfile.set_index('date',inplace = True)"
   ]
  },
  {
   "cell_type": "code",
   "execution_count": 10,
   "metadata": {},
   "outputs": [
    {
     "name": "stdout",
     "output_type": "stream",
     "text": [
      "01-March-2021\n",
      "country                                                   US\n",
      "state                                                     PA\n",
      "county                                                   NaN\n",
      "fips                                                      42\n",
      "lat                                                      NaN\n",
      "long                                                     NaN\n",
      "locationId                                iso1:us#iso2:us-pa\n",
      "actuals.cases                                       938308.0\n",
      "actuals.deaths                                       24065.0\n",
      "actuals.positiveTests                              1002242.0\n",
      "actuals.negativeTests                             10227547.0\n",
      "actuals.contactTracers                                  1508\n",
      "actuals.hospitalBeds.capacity                            NaN\n",
      "actuals.hospitalBeds.currentUsageTotal               23242.0\n",
      "actuals.hospitalBeds.currentUsageCovid                2117.0\n",
      "actuals.hospitalBeds.typicalUsageRate                    NaN\n",
      "actuals.icuBeds.capacity                              3699.0\n",
      "actuals.icuBeds.currentUsageTotal                     2776.0\n",
      "actuals.icuBeds.currentUsageCovid                        380\n",
      "actuals.icuBeds.typicalUsageRate                         NaN\n",
      "actuals.newCases                                      2397.0\n",
      "actuals.vaccinesDistributed                        3915545.0\n",
      "actuals.vaccinationsInitiated                      1956197.0\n",
      "actuals.vaccinationsCompleted                       871814.0\n",
      "metrics.testPositivityRatio                            0.053\n",
      "metrics.testPositivityRatioDetails                       NaN\n",
      "metrics.caseDensity                                     20.4\n",
      "metrics.contactTracerCapacityRatio                      0.12\n",
      "metrics.infectionRate                                   0.97\n",
      "metrics.infectionRateCI90                                0.1\n",
      "metrics.icuHeadroomRatio                                0.29\n",
      "metrics.icuHeadroomDetails                               NaN\n",
      "metrics.icuCapacityRatio                                0.75\n",
      "riskLevels.overall                                         2\n",
      "metrics.vaccinationsInitiatedRatio                     0.153\n",
      "metrics.vaccinationsCompletedRatio                     0.068\n",
      "actuals.newDeaths                                        9.0\n",
      "actuals.vaccinesAdministered                       2835338.0\n",
      "Name: 2021-03-01, dtype: object\n"
     ]
    }
   ],
   "source": [
    "#Displaying the row of the date below\n",
    "from datetime import date\n",
    "\n",
    "print(date(2021,3,1).strftime(\"%d-%B-%Y\"))\n",
    "\n",
    "mounth_03 = cfile.loc[\"2021-03-01\"]\n",
    "print(mounth_03)\n",
    "cas21_03 = mounth_03['actuals.cases']\n",
    "vac21_03 = mounth_03['actuals.vaccinationsCompleted']"
   ]
  },
  {
   "cell_type": "code",
   "execution_count": 11,
   "metadata": {},
   "outputs": [
    {
     "data": {
      "image/png": "[encoded data removed]",
      "text/plain": [
       "<Figure size 720x720 with 1 Axes>"
      ]
     },
     "metadata": {},
     "output_type": "display_data"
    }
   ],
   "source": [
    "size_03 = [vac21_03,cas21_03]\n",
    "labels = \"Vaccination Completed\",\"Actual Covid Cases\",  \n",
    "plt.figure(figsize=(10,10))\n",
    "plt.pie(size_03, labels = labels, autopct='%.2f%%')\n",
    "plt.title('Relationships between Actual Covid Cases and Vaccination Completed for 2021-March')\n",
    "plt.show()"
   ]
  },
  {
   "cell_type": "code",
   "execution_count": 12,
   "metadata": {},
   "outputs": [
    {
     "data": {
      "image/png": "[encoded data removed]",
      "text/plain": [
       "<Figure size 432x288 with 1 Axes>"
      ]
     },
     "metadata": {
      "needs_background": "light"
     },
     "output_type": "display_data"
    }
   ],
   "source": [
    "plt.bar(x = labels, height = size_03, color = (\"blue\", \"red\"))\n",
    "plt.title('Relationships between Actual Covid Cases and Vaccination Completed for 2021-March')\n",
    "plt.show()"
   ]
  },
  {
   "cell_type": "markdown",
   "metadata": {},
   "source": [
    "# The relationship between Actual cases and Vaccination completed on March 2021\n",
    "*The visualization above shows the relationship between actual cases and vaccination completed*<br>\n",
    "*On the *pie chart*, the vaccination completed is the **blue in color** and the actual cases is in the **orange in color**, but on the *bar chart* the vaccination completed is the **blue in color** and the actual cases is in the **red in color**\n",
    "\n",
    "On the month of **March,2021** the number of actual covid cases were more than the number of people vaccinated.\n",
    "As a result of this, the number of new cases at that time were **2397 people** and the number of new death were **9 people**"
   ]
  },
  {
   "cell_type": "code",
   "execution_count": 13,
   "metadata": {},
   "outputs": [
    {
     "name": "stdout",
     "output_type": "stream",
     "text": [
      "01-April-2021\n",
      "country                                                   US\n",
      "state                                                     PA\n",
      "county                                                   NaN\n",
      "fips                                                      42\n",
      "lat                                                      NaN\n",
      "long                                                     NaN\n",
      "locationId                                iso1:us#iso2:us-pa\n",
      "actuals.cases                                      1034263.0\n",
      "actuals.deaths                                       25179.0\n",
      "actuals.positiveTests                              1089165.0\n",
      "actuals.negativeTests                             11452748.0\n",
      "actuals.contactTracers                                  1508\n",
      "actuals.hospitalBeds.capacity                            NaN\n",
      "actuals.hospitalBeds.currentUsageTotal               25696.0\n",
      "actuals.hospitalBeds.currentUsageCovid                2549.0\n",
      "actuals.hospitalBeds.typicalUsageRate                    NaN\n",
      "actuals.icuBeds.capacity                              3727.0\n",
      "actuals.icuBeds.currentUsageTotal                     2862.0\n",
      "actuals.icuBeds.currentUsageCovid                        456\n",
      "actuals.icuBeds.typicalUsageRate                         NaN\n",
      "actuals.newCases                                      3848.0\n",
      "actuals.vaccinesDistributed                        7766195.0\n",
      "actuals.vaccinationsInitiated                      4153159.0\n",
      "actuals.vaccinationsCompleted                      2197732.0\n",
      "metrics.testPositivityRatio                            0.089\n",
      "metrics.testPositivityRatioDetails                       NaN\n",
      "metrics.caseDensity                                     32.1\n",
      "metrics.contactTracerCapacityRatio                      0.07\n",
      "metrics.infectionRate                                   1.09\n",
      "metrics.infectionRateCI90                                0.1\n",
      "metrics.icuHeadroomRatio                                0.35\n",
      "metrics.icuHeadroomDetails                               NaN\n",
      "metrics.icuCapacityRatio                                0.77\n",
      "riskLevels.overall                                         3\n",
      "metrics.vaccinationsInitiatedRatio                     0.324\n",
      "metrics.vaccinationsCompletedRatio                     0.172\n",
      "actuals.newDeaths                                       29.0\n",
      "actuals.vaccinesAdministered                       6201769.0\n",
      "Name: 2021-04-01, dtype: object\n"
     ]
    }
   ],
   "source": [
    "print(date(2021,4,1).strftime(\"%d-%B-%Y\"))\n",
    "\n",
    "mounth_04 = cfile.loc[\"2021-04-01\"]\n",
    "print(mounth_04)\n",
    "cas21_04 = mounth_04['actuals.cases']\n",
    "vac21_04 = mounth_04['actuals.vaccinationsCompleted']"
   ]
  },
  {
   "cell_type": "code",
   "execution_count": 14,
   "metadata": {},
   "outputs": [
    {
     "data": {
      "image/png": "[encoded data removed]",
      "text/plain": [
       "<Figure size 720x720 with 1 Axes>"
      ]
     },
     "metadata": {},
     "output_type": "display_data"
    }
   ],
   "source": [
    "size_04 = [vac21_04,cas21_04]\n",
    "labels = \"Vaccination Completed\",\"Actual Covid Cases\",  \n",
    "plt.figure(figsize=(10,10))\n",
    "plt.pie(size_04, labels = labels, autopct='%.2f%%')\n",
    "plt.title('Relationships between Actual Covid Cases and Vaccination Completed for 2021-April')\n",
    "plt.show()"
   ]
  },
  {
   "cell_type": "code",
   "execution_count": 15,
   "metadata": {},
   "outputs": [
    {
     "data": {
      "image/png": "[encoded data removed]",
      "text/plain": [
       "<Figure size 432x288 with 1 Axes>"
      ]
     },
     "metadata": {
      "needs_background": "light"
     },
     "output_type": "display_data"
    }
   ],
   "source": [
    "plt.bar(x = labels, height = size_04, color = (\"blue\", \"red\"))\n",
    "plt.title('Relationships between Actual Covid Cases and Vaccination Completed for 2021-April')\n",
    "plt.show()"
   ]
  },
  {
   "cell_type": "markdown",
   "metadata": {},
   "source": [
    "# The relationship between Actual cases and Vaccination completed on April 2021\n",
    "\n",
    "On the month of **April,2021** the number of actual covid cases were leaser than the number of people vaccinated.<br>\n",
    "As a result of this, the number of new cases at that time were **3848 people** and the number of new death were **29 people**<br>\n",
    "This made people afraid of the rate at which the pandemic was spreading, that is why many people vaccinated on the month of April."
   ]
  },
  {
   "cell_type": "code",
   "execution_count": 16,
   "metadata": {},
   "outputs": [
    {
     "name": "stdout",
     "output_type": "stream",
     "text": [
      "01-May-2021\n",
      "country                                                   US\n",
      "state                                                     PA\n",
      "county                                                   NaN\n",
      "fips                                                      42\n",
      "lat                                                      NaN\n",
      "long                                                     NaN\n",
      "locationId                                iso1:us#iso2:us-pa\n",
      "actuals.cases                                      1158964.0\n",
      "actuals.deaths                                       26307.0\n",
      "actuals.positiveTests                              1199877.0\n",
      "actuals.negativeTests                             12717231.0\n",
      "actuals.contactTracers                                  1508\n",
      "actuals.hospitalBeds.capacity                            NaN\n",
      "actuals.hospitalBeds.currentUsageTotal               25611.0\n",
      "actuals.hospitalBeds.currentUsageCovid                2655.0\n",
      "actuals.hospitalBeds.typicalUsageRate                    NaN\n",
      "actuals.icuBeds.capacity                              3747.0\n",
      "actuals.icuBeds.currentUsageTotal                     2888.0\n",
      "actuals.icuBeds.currentUsageCovid                        516\n",
      "actuals.icuBeds.typicalUsageRate                         NaN\n",
      "actuals.newCases                                      2718.0\n",
      "actuals.vaccinesDistributed                       12877055.0\n",
      "actuals.vaccinationsInitiated                      6417965.0\n",
      "actuals.vaccinationsCompleted                      4191552.0\n",
      "metrics.testPositivityRatio                            0.068\n",
      "metrics.testPositivityRatioDetails                       NaN\n",
      "metrics.caseDensity                                     25.7\n",
      "metrics.contactTracerCapacityRatio                      0.09\n",
      "metrics.infectionRate                                   0.84\n",
      "metrics.infectionRateCI90                                0.1\n",
      "metrics.icuHeadroomRatio                                0.38\n",
      "metrics.icuHeadroomDetails                               NaN\n",
      "metrics.icuCapacityRatio                                0.77\n",
      "riskLevels.overall                                         3\n",
      "metrics.vaccinationsInitiatedRatio                     0.501\n",
      "metrics.vaccinationsCompletedRatio                     0.327\n",
      "actuals.newDeaths                                       32.0\n",
      "actuals.vaccinesAdministered                      10238628.0\n",
      "Name: 2021-05-01, dtype: object\n"
     ]
    }
   ],
   "source": [
    "print(date(2021,5,1).strftime(\"%d-%B-%Y\"))\n",
    "\n",
    "mounth_05 = cfile.loc[\"2021-05-01\"]\n",
    "print(mounth_05)\n",
    "cas21_05 = mounth_05['actuals.cases']\n",
    "vac21_05 = mounth_05['actuals.vaccinationsCompleted']"
   ]
  },
  {
   "cell_type": "code",
   "execution_count": 17,
   "metadata": {},
   "outputs": [
    {
     "data": {
      "image/png": "[encoded data removed]",
      "text/plain": [
       "<Figure size 720x720 with 1 Axes>"
      ]
     },
     "metadata": {},
     "output_type": "display_data"
    }
   ],
   "source": [
    "size_05 = [vac21_05,cas21_05]\n",
    "labels = \"Vaccination Completed\",\"Actual Covid Cases\",  \n",
    "plt.figure(figsize=(10,10))\n",
    "plt.pie(size_05, labels = labels, autopct='%.2f%%')\n",
    "plt.title('Relationships between Actual Covid Cases and Vaccination Completed for 2021-May')\n",
    "plt.show()"
   ]
  },
  {
   "cell_type": "code",
   "execution_count": 18,
   "metadata": {},
   "outputs": [
    {
     "data": {
      "image/png": "[encoded data removed]",
      "text/plain": [
       "<Figure size 432x288 with 1 Axes>"
      ]
     },
     "metadata": {
      "needs_background": "light"
     },
     "output_type": "display_data"
    }
   ],
   "source": [
    "plt.bar(x = labels, height = size_05, color = (\"blue\", \"red\"))\n",
    "plt.title('Relationships between Actual Covid Cases and Vaccination Completed for 2021-May')\n",
    "plt.show()"
   ]
  },
  {
   "cell_type": "markdown",
   "metadata": {},
   "source": [
    "# The relationship between Actual cases and Vaccination completed on May 2021\n",
    "\n",
    "\n",
    "On the month of **May,2021** the number of actual covid cases went very down while the number of people vaccinated increased.<br>\n",
    "As a result of this, the number of new cases at that time were **2718 people** and the number of new death were **32 people**<br>\n",
    "Since many people vaccinated, it made the number of new cases went down, but the number of new did increase because of the huge number of new cases in the month of April. "
   ]
  },
  {
   "cell_type": "code",
   "execution_count": 19,
   "metadata": {},
   "outputs": [
    {
     "name": "stdout",
     "output_type": "stream",
     "text": [
      "01-June-2021\n",
      "country                                                   US\n",
      "state                                                     PA\n",
      "county                                                   NaN\n",
      "fips                                                      42\n",
      "lat                                                      NaN\n",
      "long                                                     NaN\n",
      "locationId                                iso1:us#iso2:us-pa\n",
      "actuals.cases                                      1207596.0\n",
      "actuals.deaths                                       27270.0\n",
      "actuals.positiveTests                              1240970.0\n",
      "actuals.negativeTests                             13579083.0\n",
      "actuals.contactTracers                                  1508\n",
      "actuals.hospitalBeds.capacity                            NaN\n",
      "actuals.hospitalBeds.currentUsageTotal               22595.0\n",
      "actuals.hospitalBeds.currentUsageCovid                1402.0\n",
      "actuals.hospitalBeds.typicalUsageRate                    NaN\n",
      "actuals.icuBeds.capacity                              3679.0\n",
      "actuals.icuBeds.currentUsageTotal                     2702.0\n",
      "actuals.icuBeds.currentUsageCovid                        255\n",
      "actuals.icuBeds.typicalUsageRate                         NaN\n",
      "actuals.newCases                                       841.0\n",
      "actuals.vaccinesDistributed                       15063565.0\n",
      "actuals.vaccinationsInitiated                      7489056.0\n",
      "actuals.vaccinationsCompleted                      5597140.0\n",
      "metrics.testPositivityRatio                            0.032\n",
      "metrics.testPositivityRatioDetails                       NaN\n",
      "metrics.caseDensity                                      6.1\n",
      "metrics.contactTracerCapacityRatio                      0.39\n",
      "metrics.infectionRate                                   0.71\n",
      "metrics.infectionRateCI90                                0.1\n",
      "metrics.icuHeadroomRatio                                0.21\n",
      "metrics.icuHeadroomDetails                               NaN\n",
      "metrics.icuCapacityRatio                                0.73\n",
      "riskLevels.overall                                         1\n",
      "metrics.vaccinationsInitiatedRatio                     0.585\n",
      "metrics.vaccinationsCompletedRatio                     0.437\n",
      "actuals.newDeaths                                        2.0\n",
      "actuals.vaccinesAdministered                      12614213.0\n",
      "Name: 2021-06-01, dtype: object\n"
     ]
    }
   ],
   "source": [
    "print(date(2021,6,1).strftime(\"%d-%B-%Y\"))\n",
    "\n",
    "mounth_06 = cfile.loc[\"2021-06-01\"]\n",
    "print(mounth_06)\n",
    "cas21_06 = mounth_06['actuals.cases']\n",
    "vac21_06 = mounth_06['actuals.vaccinationsCompleted']"
   ]
  },
  {
   "cell_type": "code",
   "execution_count": 20,
   "metadata": {},
   "outputs": [
    {
     "data": {
      "image/png": "[encoded data removed]",
      "text/plain": [
       "<Figure size 720x720 with 1 Axes>"
      ]
     },
     "metadata": {},
     "output_type": "display_data"
    }
   ],
   "source": [
    "size_06 = [vac21_06,cas21_06]\n",
    "labels = \"Vaccination Completed\",\"Actual Covid Cases\",  \n",
    "plt.figure(figsize=(10,10))\n",
    "plt.pie(size_06, labels = labels, autopct='%.2f%%')\n",
    "plt.title('Relationships between Actual Covid Cases and Vaccination Completed for 2021-June')\n",
    "plt.show()"
   ]
  },
  {
   "cell_type": "code",
   "execution_count": 21,
   "metadata": {},
   "outputs": [
    {
     "data": {
      "image/png": "[encoded data removed]",
      "text/plain": [
       "<Figure size 432x288 with 1 Axes>"
      ]
     },
     "metadata": {
      "needs_background": "light"
     },
     "output_type": "display_data"
    }
   ],
   "source": [
    "plt.bar(x = labels, height = size_06, color = (\"blue\", \"red\"))\n",
    "plt.title('Relationships between Actual Covid Cases and Vaccination Completed for 2021-June')\n",
    "plt.show()"
   ]
  },
  {
   "cell_type": "markdown",
   "metadata": {},
   "source": [
    "# The relationship between Actual cases and Vaccination completed on June 2021\n",
    "\n",
    "\n",
    "On the month of **June,2021** the number of actual covid cases went very very very down while the number of people vaccinated were still increasing.<br>\n",
    "As a result of this, the number of new cases at that time were **841 people** and the number of new death were **2 people**<br>\n",
    "\n",
    "Since many people decided to vacinated in the month of June, the number of new cases went very down and the new death as well.\n",
    "\n",
    "This means if everybody gets vaccinated, the number of actual cases will be zero. \n",
    "**I will recomend that, the key to this pandemic is vaccination.**"
   ]
  }
 ],
 "metadata": {
  "kernelspec": {
   "display_name": "Python 3",
   "language": "python",
   "name": "python3"
  },
  "language_info": {
   "codemirror_mode": {
    "name": "ipython",
    "version": 3
   },
   "file_extension": ".py",
   "mimetype": "text/x-python",
   "name": "python",
   "nbconvert_exporter": "python",
   "pygments_lexer": "ipython3",
   "version": "3.7.6"
  }
 },
 "nbformat": 4,
 "nbformat_minor": 4
}
